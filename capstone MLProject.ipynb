{
 "cells": [
  {
   "cell_type": "markdown",
   "metadata": {},
   "source": [
    "#      BankNote Classification Using Artificial Neural Network Approach\n",
    "\n",
    "        "
   ]
  },
  {
   "cell_type": "markdown",
   "metadata": {},
   "source": [
    "<img style=\"width: 500px;height: 350px\" src=\"202w.gif\">"
   ]
  },
  {
   "cell_type": "markdown",
   "metadata": {},
   "source": [
    "\n",
    "##  Problem Statement:\n",
    "\n",
    " \"Given four features, the aim is to build a predictive model to determine if the Bank Notes are genuine or counterfeit.\" \n",
    "From the problem statement, it’s evident that this is a classification problem. Lets build the Classification Model using artificial neural network (ANN) approach. Lets use BankNote Authentication dataset to build on the classification model. You can find the dataset at:<a href=\"https://archive.ics.uci.edu/ml/machine-learning-databases/00267/\">Bank note authentication dataset</a> \n",
    "\n",
    "Input to the system is an image acquired by a scanner or a digital camera, containing the paper currency and its output is the features of the paper currency. A high resolution scanner is used to acquire the image. The acquired image of a paper currency is first converted to gray scaled image. Conversion to gray scale facilitates further pre-processing. For digitization, an industrial camera usually used for print inspection was used. The final images have 400x 400 pixels. Due to the object lens and distance to the investigated object gray-scale pictures with a resolution of about 660 dpi were gained. Wavelet Transform tool were used to extract features from images.\n",
    "    "
   ]
  },
  {
   "cell_type": "markdown",
   "metadata": {},
   "source": [
    "### So let's explore the Data Analysis for Bank Note Authentication Datasets!!"
   ]
  },
  {
   "cell_type": "markdown",
   "metadata": {},
   "source": [
    "<img style=\"width: 500px;height: 350px\"  src=\"200w.gif\">\n"
   ]
  },
  {
   "cell_type": "markdown",
   "metadata": {},
   "source": [
    "## Importing required tools:"
   ]
  },
  {
   "cell_type": "code",
   "execution_count": 45,
   "metadata": {},
   "outputs": [],
   "source": [
    "import numpy as np\n",
    "import tensorflow as tf\n",
    "from tensorflow.python import keras\n",
    "import pandas as pd\n",
    "import matplotlib.pyplot as plt\n",
    "from sklearn.model_selection import train_test_split\n",
    "import seaborn as sns\n",
    "%matplotlib inline"
   ]
  },
  {
   "cell_type": "markdown",
   "metadata": {},
   "source": [
    "## Understanding and Analysing the data"
   ]
  },
  {
   "cell_type": "code",
   "execution_count": 46,
   "metadata": {},
   "outputs": [
    {
     "data": {
      "text/html": [
       "<div>\n",
       "<style scoped>\n",
       "    .dataframe tbody tr th:only-of-type {\n",
       "        vertical-align: middle;\n",
       "    }\n",
       "\n",
       "    .dataframe tbody tr th {\n",
       "        vertical-align: top;\n",
       "    }\n",
       "\n",
       "    .dataframe thead th {\n",
       "        text-align: right;\n",
       "    }\n",
       "</style>\n",
       "<table border=\"1\" class=\"dataframe\">\n",
       "  <thead>\n",
       "    <tr style=\"text-align: right;\">\n",
       "      <th></th>\n",
       "      <th>variance of Wavelet Transformed image</th>\n",
       "      <th>skewness of Wavelet Transformed image</th>\n",
       "      <th>curtosis of Wavelet Transformed image</th>\n",
       "      <th>entropy of image</th>\n",
       "      <th>target</th>\n",
       "    </tr>\n",
       "  </thead>\n",
       "  <tbody>\n",
       "    <tr>\n",
       "      <th>0</th>\n",
       "      <td>3.62160</td>\n",
       "      <td>8.6661</td>\n",
       "      <td>-2.80730</td>\n",
       "      <td>-0.44699</td>\n",
       "      <td>0</td>\n",
       "    </tr>\n",
       "    <tr>\n",
       "      <th>1</th>\n",
       "      <td>4.54590</td>\n",
       "      <td>8.1674</td>\n",
       "      <td>-2.45860</td>\n",
       "      <td>-1.46210</td>\n",
       "      <td>0</td>\n",
       "    </tr>\n",
       "    <tr>\n",
       "      <th>2</th>\n",
       "      <td>3.86600</td>\n",
       "      <td>-2.6383</td>\n",
       "      <td>1.92420</td>\n",
       "      <td>0.10645</td>\n",
       "      <td>0</td>\n",
       "    </tr>\n",
       "    <tr>\n",
       "      <th>3</th>\n",
       "      <td>3.45660</td>\n",
       "      <td>9.5228</td>\n",
       "      <td>-4.01120</td>\n",
       "      <td>-3.59440</td>\n",
       "      <td>0</td>\n",
       "    </tr>\n",
       "    <tr>\n",
       "      <th>4</th>\n",
       "      <td>0.32924</td>\n",
       "      <td>-4.4552</td>\n",
       "      <td>4.57180</td>\n",
       "      <td>-0.98880</td>\n",
       "      <td>0</td>\n",
       "    </tr>\n",
       "    <tr>\n",
       "      <th>5</th>\n",
       "      <td>4.36840</td>\n",
       "      <td>9.6718</td>\n",
       "      <td>-3.96060</td>\n",
       "      <td>-3.16250</td>\n",
       "      <td>0</td>\n",
       "    </tr>\n",
       "    <tr>\n",
       "      <th>6</th>\n",
       "      <td>3.59120</td>\n",
       "      <td>3.0129</td>\n",
       "      <td>0.72888</td>\n",
       "      <td>0.56421</td>\n",
       "      <td>0</td>\n",
       "    </tr>\n",
       "    <tr>\n",
       "      <th>7</th>\n",
       "      <td>2.09220</td>\n",
       "      <td>-6.8100</td>\n",
       "      <td>8.46360</td>\n",
       "      <td>-0.60216</td>\n",
       "      <td>0</td>\n",
       "    </tr>\n",
       "    <tr>\n",
       "      <th>8</th>\n",
       "      <td>3.20320</td>\n",
       "      <td>5.7588</td>\n",
       "      <td>-0.75345</td>\n",
       "      <td>-0.61251</td>\n",
       "      <td>0</td>\n",
       "    </tr>\n",
       "    <tr>\n",
       "      <th>9</th>\n",
       "      <td>1.53560</td>\n",
       "      <td>9.1772</td>\n",
       "      <td>-2.27180</td>\n",
       "      <td>-0.73535</td>\n",
       "      <td>0</td>\n",
       "    </tr>\n",
       "  </tbody>\n",
       "</table>\n",
       "</div>"
      ],
      "text/plain": [
       "    variance of Wavelet Transformed image  \\\n",
       "0                                 3.62160   \n",
       "1                                 4.54590   \n",
       "2                                 3.86600   \n",
       "3                                 3.45660   \n",
       "4                                 0.32924   \n",
       "5                                 4.36840   \n",
       "6                                 3.59120   \n",
       "7                                 2.09220   \n",
       "8                                 3.20320   \n",
       "9                                 1.53560   \n",
       "\n",
       "    skewness of Wavelet Transformed image  \\\n",
       "0                                  8.6661   \n",
       "1                                  8.1674   \n",
       "2                                 -2.6383   \n",
       "3                                  9.5228   \n",
       "4                                 -4.4552   \n",
       "5                                  9.6718   \n",
       "6                                  3.0129   \n",
       "7                                 -6.8100   \n",
       "8                                  5.7588   \n",
       "9                                  9.1772   \n",
       "\n",
       "   curtosis of Wavelet Transformed image  entropy of image   target  \n",
       "0                               -2.80730          -0.44699        0  \n",
       "1                               -2.45860          -1.46210        0  \n",
       "2                                1.92420           0.10645        0  \n",
       "3                               -4.01120          -3.59440        0  \n",
       "4                                4.57180          -0.98880        0  \n",
       "5                               -3.96060          -3.16250        0  \n",
       "6                                0.72888           0.56421        0  \n",
       "7                                8.46360          -0.60216        0  \n",
       "8                               -0.75345          -0.61251        0  \n",
       "9                               -2.27180          -0.73535        0  "
      ]
     },
     "execution_count": 46,
     "metadata": {},
     "output_type": "execute_result"
    }
   ],
   "source": [
    "col_names=(' variance of Wavelet Transformed image',' skewness of Wavelet Transformed image','curtosis of Wavelet Transformed image','entropy of image',' target')\n",
    "train=pd.read_csv('https://archive.ics.uci.edu/ml/machine-learning-databases/00267/data_banknote_authentication.txt',names=col_names)\n",
    "train.head(10)"
   ]
  },
  {
   "cell_type": "markdown",
   "metadata": {},
   "source": [
    "## Attribute Information:\n",
    "\n",
    "    1.variance of Wavelet Transformed image (continuous)\n",
    "    2.skewness of Wavelet Transformed image (continuous)\n",
    "    3.curtosis of Wavelet Transformed image (continuous)\n",
    "    4.entropy of image (continuous)\n",
    "    5.class (integer)"
   ]
  },
  {
   "cell_type": "markdown",
   "metadata": {},
   "source": [
    "## Feature Extraction:\n",
    "\n",
    "The potential features are extracted for efficient classification. The input vector can be written as follows:\n",
    "   ####    F= (V,S,C,E)\n",
    "The attributes of the images such as The variance of Wavelet Transformed image (continuous), skewness of Wavelet Transformed image (continuous),curtosis of Wavelet Transformed image (continuous),entropy of image (continuous) features are extracted from images for accurate classification.\n",
    "A better explanation for feature selection based on correlation can be referred <a href=\"https://www.analyticsvidhya.com/blog/2016/12/introduction-to-feature-selection-methods-with-an-example-or-how-to-select-the-right-variables/\n",
    "\">here</a>\n",
    "\n",
    "Details of the Wavelet transform can be found <a href=\"https://en.wikipedia.org/wiki/Wavelet_transform\n",
    "\">here</a>\n"
   ]
  },
  {
   "cell_type": "code",
   "execution_count": 47,
   "metadata": {},
   "outputs": [
    {
     "data": {
      "image/png": "[encoded data removed]",
      "text/plain": [
       "<Figure size 360x360 with 2 Axes>"
      ]
     },
     "metadata": {},
     "output_type": "display_data"
    }
   ],
   "source": [
    "corr = train.corr()\n",
    "plt.figure(figsize=(5, 5))\n",
    "sns.heatmap(corr, annot=True, cmap=\"YlGnBu\")\n",
    "plt.show()"
   ]
  },
  {
   "cell_type": "markdown",
   "metadata": {},
   "source": [
    "## Preprocessing of the datas:\n",
    "    \n",
    "####    Since all the features are highly correlated a clustering process shall be performed using artificial neural network (ANN) approach."
   ]
  },
  {
   "cell_type": "code",
   "execution_count": 48,
   "metadata": {},
   "outputs": [
    {
     "data": {
      "text/html": [
       "<div>\n",
       "<style scoped>\n",
       "    .dataframe tbody tr th:only-of-type {\n",
       "        vertical-align: middle;\n",
       "    }\n",
       "\n",
       "    .dataframe tbody tr th {\n",
       "        vertical-align: top;\n",
       "    }\n",
       "\n",
       "    .dataframe thead th {\n",
       "        text-align: right;\n",
       "    }\n",
       "</style>\n",
       "<table border=\"1\" class=\"dataframe\">\n",
       "  <thead>\n",
       "    <tr style=\"text-align: right;\">\n",
       "      <th></th>\n",
       "      <th>variance of Wavelet Transformed image</th>\n",
       "      <th>skewness of Wavelet Transformed image</th>\n",
       "      <th>curtosis of Wavelet Transformed image</th>\n",
       "      <th>entropy of image</th>\n",
       "    </tr>\n",
       "  </thead>\n",
       "  <tbody>\n",
       "    <tr>\n",
       "      <th>0</th>\n",
       "      <td>3.62160</td>\n",
       "      <td>8.6661</td>\n",
       "      <td>-2.80730</td>\n",
       "      <td>-0.44699</td>\n",
       "    </tr>\n",
       "    <tr>\n",
       "      <th>1</th>\n",
       "      <td>4.54590</td>\n",
       "      <td>8.1674</td>\n",
       "      <td>-2.45860</td>\n",
       "      <td>-1.46210</td>\n",
       "    </tr>\n",
       "    <tr>\n",
       "      <th>2</th>\n",
       "      <td>3.86600</td>\n",
       "      <td>-2.6383</td>\n",
       "      <td>1.92420</td>\n",
       "      <td>0.10645</td>\n",
       "    </tr>\n",
       "    <tr>\n",
       "      <th>3</th>\n",
       "      <td>3.45660</td>\n",
       "      <td>9.5228</td>\n",
       "      <td>-4.01120</td>\n",
       "      <td>-3.59440</td>\n",
       "    </tr>\n",
       "    <tr>\n",
       "      <th>4</th>\n",
       "      <td>0.32924</td>\n",
       "      <td>-4.4552</td>\n",
       "      <td>4.57180</td>\n",
       "      <td>-0.98880</td>\n",
       "    </tr>\n",
       "    <tr>\n",
       "      <th>5</th>\n",
       "      <td>4.36840</td>\n",
       "      <td>9.6718</td>\n",
       "      <td>-3.96060</td>\n",
       "      <td>-3.16250</td>\n",
       "    </tr>\n",
       "    <tr>\n",
       "      <th>6</th>\n",
       "      <td>3.59120</td>\n",
       "      <td>3.0129</td>\n",
       "      <td>0.72888</td>\n",
       "      <td>0.56421</td>\n",
       "    </tr>\n",
       "    <tr>\n",
       "      <th>7</th>\n",
       "      <td>2.09220</td>\n",
       "      <td>-6.8100</td>\n",
       "      <td>8.46360</td>\n",
       "      <td>-0.60216</td>\n",
       "    </tr>\n",
       "    <tr>\n",
       "      <th>8</th>\n",
       "      <td>3.20320</td>\n",
       "      <td>5.7588</td>\n",
       "      <td>-0.75345</td>\n",
       "      <td>-0.61251</td>\n",
       "    </tr>\n",
       "    <tr>\n",
       "      <th>9</th>\n",
       "      <td>1.53560</td>\n",
       "      <td>9.1772</td>\n",
       "      <td>-2.27180</td>\n",
       "      <td>-0.73535</td>\n",
       "    </tr>\n",
       "  </tbody>\n",
       "</table>\n",
       "</div>"
      ],
      "text/plain": [
       "    variance of Wavelet Transformed image  \\\n",
       "0                                 3.62160   \n",
       "1                                 4.54590   \n",
       "2                                 3.86600   \n",
       "3                                 3.45660   \n",
       "4                                 0.32924   \n",
       "5                                 4.36840   \n",
       "6                                 3.59120   \n",
       "7                                 2.09220   \n",
       "8                                 3.20320   \n",
       "9                                 1.53560   \n",
       "\n",
       "    skewness of Wavelet Transformed image  \\\n",
       "0                                  8.6661   \n",
       "1                                  8.1674   \n",
       "2                                 -2.6383   \n",
       "3                                  9.5228   \n",
       "4                                 -4.4552   \n",
       "5                                  9.6718   \n",
       "6                                  3.0129   \n",
       "7                                 -6.8100   \n",
       "8                                  5.7588   \n",
       "9                                  9.1772   \n",
       "\n",
       "   curtosis of Wavelet Transformed image  entropy of image  \n",
       "0                               -2.80730          -0.44699  \n",
       "1                               -2.45860          -1.46210  \n",
       "2                                1.92420           0.10645  \n",
       "3                               -4.01120          -3.59440  \n",
       "4                                4.57180          -0.98880  \n",
       "5                               -3.96060          -3.16250  \n",
       "6                                0.72888           0.56421  \n",
       "7                                8.46360          -0.60216  \n",
       "8                               -0.75345          -0.61251  \n",
       "9                               -2.27180          -0.73535  "
      ]
     },
     "execution_count": 48,
     "metadata": {},
     "output_type": "execute_result"
    }
   ],
   "source": [
    "X=train.iloc[:,:4]\n",
    "Y=train.iloc[:,-1]\n",
    "X.head(10)\n"
   ]
  },
  {
   "cell_type": "code",
   "execution_count": 49,
   "metadata": {},
   "outputs": [
    {
     "data": {
      "text/plain": [
       "0    0\n",
       "1    0\n",
       "2    0\n",
       "3    0\n",
       "4    0\n",
       "Name:  target, dtype: int64"
      ]
     },
     "execution_count": 49,
     "metadata": {},
     "output_type": "execute_result"
    }
   ],
   "source": [
    "Y.head()"
   ]
  },
  {
   "cell_type": "markdown",
   "metadata": {},
   "source": [
    "## Splitting and Normalizing Data\n",
    "\n",
    "Data normalization is the process of rescaling one or more attributes to the range of 0 to 1. This means that the largest value for each attribute is 1 and the smallest value is 0.\n",
    "\n",
    "The need for normalization of data can be better understood https://medium.com/@lahorekid/a-dummies-guide-to-data-normalization-for-neural-nets-ff1998116e75"
   ]
  },
  {
   "cell_type": "code",
   "execution_count": 50,
   "metadata": {},
   "outputs": [],
   "source": [
    "X = (X-X.min()) / (X.max()-X.min())\n",
    "xtrain,xtest,ytrain,ytest = train_test_split(np.array(X), np.array(Y), test_size=0.3)"
   ]
  },
  {
   "cell_type": "markdown",
   "metadata": {},
   "source": [
    "## Defining the Model:\n",
    "\n",
    "Feed forward backpropagation neural network originate from the problem of interpolating a set of data in a hyperspace to find the best hyper-plane that interpolates that set of data. \n",
    "\n",
    "The input layer consists of the data (or the pattern) that is to be interpolated (or classified). The hidden layer provides a nonlinear transformation from the input layer space to the hidden layer space. It usually consists of a high number of neurons. The output layer provides a linear transformation from the hidden layer space to the output layer space.\n",
    "\n",
    "In this example, the neural network consists of 3 layers\n",
    "\n",
    "<ul>\n",
    "\t<li>Layer1 - Input layer(4 nodes)</li>\n",
    "\t<li>Layer2 - Hidden layer(10 nodes)</li>\n",
    "\t<li>Layer3 - Output layer(2 nodes)</li>\n",
    "</ul>\n",
    "    \n",
    "Four input parameters, one hidden layer with 10 neurons and two output has been used for the ANN. All of these parameters were real-valued continuous.\n",
    " To get a better idea of layers and node selection refer to this <a href=\"https://machinelearningmastery.com/how-to-configure-the-number-of-layers-and-nodes-in-a-neural-network/\n",
    "\">article</a>\n",
    "  Tanh is used as an <a href=\"https://www.geeksforgeeks.org/activation-functions-neural-networks/\n",
    "\">activation</a>\n",
    "  for the input and the hidden layer while the softmax function is used for the output layer. The reason for using Tanh and softmax function was it gave a better <a href=\" https://towardsdatascience.com/accuracy-precision-recall-or-f1-331fb37c5cb9\n",
    "\">accuracy</a>\n",
    "  while compared to other activation functions(trial and error)."
   ]
  },
  {
   "cell_type": "code",
   "execution_count": 51,
   "metadata": {},
   "outputs": [],
   "source": [
    "model = keras.models.Sequential([\n",
    "            keras.layers.Dense(10, activation=tf.nn.tanh, input_shape=(xtrain[0].shape), kernel_regularizer=keras.regularizers.l2(0.001)),\n",
    "            keras.layers.Dense(2, activation=tf.nn.softmax)\n",
    "\n",
    "])"
   ]
  },
  {
   "cell_type": "code",
   "execution_count": 52,
   "metadata": {},
   "outputs": [],
   "source": [
    "model.compile(loss='sparse_categorical_crossentropy',\n",
    "              optimizer=keras.optimizers.Adamax(0.001),\n",
    "              metrics=['accuracy']\n",
    "              )"
   ]
  },
  {
   "cell_type": "markdown",
   "metadata": {},
   "source": [
    "## Training the model:\n"
   ]
  },
  {
   "cell_type": "markdown",
   "metadata": {},
   "source": [
    "The BackPropagation algorithm is used in the training procedure along with Cross-Validation. <a href=\" https://machinelearningmastery.com/gentle-introduction-to-the-bias-variance-trade-off-in-machine-learning/\n",
    "\">CV</a>\n",
    " is done to reduce bias and variance"
   ]
  },
  {
   "cell_type": "code",
   "execution_count": 63,
   "metadata": {},
   "outputs": [
    {
     "name": "stdout",
     "output_type": "stream",
     "text": [
      "Train on 768 samples, validate on 192 samples\n",
      "Epoch 1/100\n",
      " - 0s - loss: 0.0414 - acc: 0.9870 - val_loss: 0.0469 - val_acc: 0.9896\n",
      "Epoch 2/100\n",
      " - 0s - loss: 0.0416 - acc: 0.9818 - val_loss: 0.0464 - val_acc: 0.9896\n",
      "Epoch 3/100\n",
      " - 0s - loss: 0.0414 - acc: 0.9870 - val_loss: 0.0468 - val_acc: 0.9896\n",
      "Epoch 4/100\n",
      " - 0s - loss: 0.0414 - acc: 0.9870 - val_loss: 0.0469 - val_acc: 0.9896\n",
      "Epoch 5/100\n",
      " - 0s - loss: 0.0414 - acc: 0.9870 - val_loss: 0.0465 - val_acc: 0.9896\n",
      "Epoch 6/100\n",
      " - 0s - loss: 0.0414 - acc: 0.9857 - val_loss: 0.0463 - val_acc: 0.9896\n",
      "Epoch 7/100\n",
      " - 0s - loss: 0.0418 - acc: 0.9870 - val_loss: 0.0469 - val_acc: 0.9896\n",
      "Epoch 8/100\n",
      " - 0s - loss: 0.0415 - acc: 0.9844 - val_loss: 0.0462 - val_acc: 0.9896\n",
      "Epoch 9/100\n",
      " - 0s - loss: 0.0415 - acc: 0.9870 - val_loss: 0.0465 - val_acc: 0.9896\n",
      "Epoch 10/100\n",
      " - 0s - loss: 0.0413 - acc: 0.9870 - val_loss: 0.0466 - val_acc: 0.9896\n",
      "Epoch 11/100\n",
      " - 0s - loss: 0.0413 - acc: 0.9844 - val_loss: 0.0462 - val_acc: 0.9896\n",
      "Epoch 12/100\n",
      " - 0s - loss: 0.0415 - acc: 0.9857 - val_loss: 0.0472 - val_acc: 0.9896\n",
      "Epoch 13/100\n",
      " - 0s - loss: 0.0413 - acc: 0.9870 - val_loss: 0.0463 - val_acc: 0.9896\n",
      "Epoch 14/100\n",
      " - 0s - loss: 0.0412 - acc: 0.9857 - val_loss: 0.0462 - val_acc: 0.9896\n",
      "Epoch 15/100\n",
      " - 0s - loss: 0.0413 - acc: 0.9844 - val_loss: 0.0463 - val_acc: 0.9896\n",
      "Epoch 16/100\n",
      " - 0s - loss: 0.0412 - acc: 0.9870 - val_loss: 0.0466 - val_acc: 0.9896\n",
      "Epoch 17/100\n",
      " - 0s - loss: 0.0412 - acc: 0.9870 - val_loss: 0.0471 - val_acc: 0.9896\n",
      "Epoch 18/100\n",
      " - 0s - loss: 0.0411 - acc: 0.9870 - val_loss: 0.0461 - val_acc: 0.9896\n",
      "Epoch 19/100\n",
      " - 0s - loss: 0.0411 - acc: 0.9844 - val_loss: 0.0462 - val_acc: 0.9896\n",
      "Epoch 20/100\n",
      " - 0s - loss: 0.0411 - acc: 0.9857 - val_loss: 0.0460 - val_acc: 0.9896\n",
      "Epoch 21/100\n",
      " - 0s - loss: 0.0409 - acc: 0.9857 - val_loss: 0.0462 - val_acc: 0.9896\n",
      "Epoch 22/100\n",
      " - 0s - loss: 0.0410 - acc: 0.9870 - val_loss: 0.0466 - val_acc: 0.9896\n",
      "Epoch 23/100\n",
      " - 0s - loss: 0.0411 - acc: 0.9870 - val_loss: 0.0461 - val_acc: 0.9896\n",
      "Epoch 24/100\n",
      " - 0s - loss: 0.0412 - acc: 0.9870 - val_loss: 0.0466 - val_acc: 0.9896\n",
      "Epoch 25/100\n",
      " - 0s - loss: 0.0410 - acc: 0.9870 - val_loss: 0.0463 - val_acc: 0.9896\n",
      "Epoch 26/100\n",
      " - 0s - loss: 0.0409 - acc: 0.9870 - val_loss: 0.0460 - val_acc: 0.9896\n",
      "Epoch 27/100\n",
      " - 0s - loss: 0.0409 - acc: 0.9857 - val_loss: 0.0458 - val_acc: 0.9896\n",
      "Epoch 28/100\n",
      " - 0s - loss: 0.0408 - acc: 0.9831 - val_loss: 0.0460 - val_acc: 0.9896\n",
      "Epoch 29/100\n",
      " - 0s - loss: 0.0408 - acc: 0.9870 - val_loss: 0.0463 - val_acc: 0.9896\n",
      "Epoch 30/100\n",
      " - 0s - loss: 0.0408 - acc: 0.9870 - val_loss: 0.0461 - val_acc: 0.9896\n",
      "Epoch 31/100\n",
      " - 0s - loss: 0.0412 - acc: 0.9857 - val_loss: 0.0459 - val_acc: 0.9896\n",
      "Epoch 32/100\n",
      " - 0s - loss: 0.0409 - acc: 0.9870 - val_loss: 0.0457 - val_acc: 0.9896\n",
      "Epoch 33/100\n",
      " - 0s - loss: 0.0411 - acc: 0.9870 - val_loss: 0.0458 - val_acc: 0.9896\n",
      "Epoch 34/100\n",
      " - 0s - loss: 0.0411 - acc: 0.9844 - val_loss: 0.0459 - val_acc: 0.9896\n",
      "Epoch 35/100\n",
      " - 0s - loss: 0.0407 - acc: 0.9870 - val_loss: 0.0459 - val_acc: 0.9896\n",
      "Epoch 36/100\n",
      " - 0s - loss: 0.0408 - acc: 0.9870 - val_loss: 0.0460 - val_acc: 0.9896\n",
      "Epoch 37/100\n",
      " - 0s - loss: 0.0407 - acc: 0.9857 - val_loss: 0.0455 - val_acc: 0.9896\n",
      "Epoch 38/100\n",
      " - 0s - loss: 0.0406 - acc: 0.9870 - val_loss: 0.0455 - val_acc: 0.9896\n",
      "Epoch 39/100\n",
      " - 0s - loss: 0.0408 - acc: 0.9870 - val_loss: 0.0463 - val_acc: 0.9896\n",
      "Epoch 40/100\n",
      " - 0s - loss: 0.0411 - acc: 0.9844 - val_loss: 0.0452 - val_acc: 0.9896\n",
      "Epoch 41/100\n",
      " - 0s - loss: 0.0405 - acc: 0.9857 - val_loss: 0.0458 - val_acc: 0.9896\n",
      "Epoch 42/100\n",
      " - 0s - loss: 0.0406 - acc: 0.9870 - val_loss: 0.0456 - val_acc: 0.9896\n",
      "Epoch 43/100\n",
      " - 0s - loss: 0.0406 - acc: 0.9870 - val_loss: 0.0459 - val_acc: 0.9896\n",
      "Epoch 44/100\n",
      " - 0s - loss: 0.0407 - acc: 0.9870 - val_loss: 0.0454 - val_acc: 0.9896\n",
      "Epoch 45/100\n",
      " - 0s - loss: 0.0407 - acc: 0.9870 - val_loss: 0.0461 - val_acc: 0.9896\n",
      "Epoch 46/100\n",
      " - 0s - loss: 0.0405 - acc: 0.9870 - val_loss: 0.0455 - val_acc: 0.9896\n",
      "Epoch 47/100\n",
      " - 0s - loss: 0.0405 - acc: 0.9870 - val_loss: 0.0455 - val_acc: 0.9896\n",
      "Epoch 48/100\n",
      " - 0s - loss: 0.0405 - acc: 0.9870 - val_loss: 0.0457 - val_acc: 0.9896\n",
      "Epoch 49/100\n",
      " - 0s - loss: 0.0405 - acc: 0.9870 - val_loss: 0.0454 - val_acc: 0.9896\n",
      "Epoch 50/100\n",
      " - 0s - loss: 0.0405 - acc: 0.9870 - val_loss: 0.0452 - val_acc: 0.9896\n",
      "Epoch 51/100\n",
      " - 0s - loss: 0.0405 - acc: 0.9870 - val_loss: 0.0455 - val_acc: 0.9896\n",
      "Epoch 52/100\n",
      " - 0s - loss: 0.0404 - acc: 0.9870 - val_loss: 0.0458 - val_acc: 0.9896\n",
      "Epoch 53/100\n",
      " - 0s - loss: 0.0404 - acc: 0.9870 - val_loss: 0.0453 - val_acc: 0.9896\n",
      "Epoch 54/100\n",
      " - 0s - loss: 0.0405 - acc: 0.9870 - val_loss: 0.0454 - val_acc: 0.9896\n",
      "Epoch 55/100\n",
      " - 0s - loss: 0.0408 - acc: 0.9831 - val_loss: 0.0453 - val_acc: 0.9896\n",
      "Epoch 56/100\n",
      " - 0s - loss: 0.0406 - acc: 0.9870 - val_loss: 0.0452 - val_acc: 0.9896\n",
      "Epoch 57/100\n",
      " - 0s - loss: 0.0404 - acc: 0.9870 - val_loss: 0.0451 - val_acc: 0.9896\n",
      "Epoch 58/100\n",
      " - 0s - loss: 0.0402 - acc: 0.9870 - val_loss: 0.0454 - val_acc: 0.9896\n",
      "Epoch 59/100\n",
      " - 0s - loss: 0.0403 - acc: 0.9870 - val_loss: 0.0451 - val_acc: 0.9896\n",
      "Epoch 60/100\n",
      " - 0s - loss: 0.0403 - acc: 0.9870 - val_loss: 0.0457 - val_acc: 0.9896\n",
      "Epoch 61/100\n",
      " - 0s - loss: 0.0403 - acc: 0.9870 - val_loss: 0.0449 - val_acc: 0.9896\n",
      "Epoch 62/100\n",
      " - 0s - loss: 0.0403 - acc: 0.9870 - val_loss: 0.0458 - val_acc: 0.9896\n",
      "Epoch 63/100\n",
      " - 0s - loss: 0.0402 - acc: 0.9870 - val_loss: 0.0452 - val_acc: 0.9896\n",
      "Epoch 64/100\n",
      " - 0s - loss: 0.0402 - acc: 0.9870 - val_loss: 0.0449 - val_acc: 0.9896\n",
      "Epoch 65/100\n",
      " - 0s - loss: 0.0403 - acc: 0.9870 - val_loss: 0.0449 - val_acc: 0.9896\n",
      "Epoch 66/100\n",
      " - 0s - loss: 0.0403 - acc: 0.9870 - val_loss: 0.0451 - val_acc: 0.9896\n",
      "Epoch 67/100\n",
      " - 0s - loss: 0.0402 - acc: 0.9870 - val_loss: 0.0453 - val_acc: 0.9896\n",
      "Epoch 68/100\n",
      " - 0s - loss: 0.0401 - acc: 0.9870 - val_loss: 0.0449 - val_acc: 0.9896\n",
      "Epoch 69/100\n",
      " - 0s - loss: 0.0401 - acc: 0.9870 - val_loss: 0.0449 - val_acc: 0.9896\n",
      "Epoch 70/100\n",
      " - 0s - loss: 0.0402 - acc: 0.9870 - val_loss: 0.0451 - val_acc: 0.9896\n",
      "Epoch 71/100\n",
      " - 0s - loss: 0.0400 - acc: 0.9870 - val_loss: 0.0448 - val_acc: 0.9896\n",
      "Epoch 72/100\n",
      " - 0s - loss: 0.0402 - acc: 0.9870 - val_loss: 0.0452 - val_acc: 0.9896\n",
      "Epoch 73/100\n",
      " - 0s - loss: 0.0401 - acc: 0.9870 - val_loss: 0.0452 - val_acc: 0.9896\n",
      "Epoch 74/100\n",
      " - 0s - loss: 0.0399 - acc: 0.9870 - val_loss: 0.0447 - val_acc: 0.9896\n",
      "Epoch 75/100\n",
      " - 0s - loss: 0.0400 - acc: 0.9870 - val_loss: 0.0447 - val_acc: 0.9896\n",
      "Epoch 76/100\n",
      " - 0s - loss: 0.0401 - acc: 0.9870 - val_loss: 0.0450 - val_acc: 0.9896\n",
      "Epoch 77/100\n",
      " - 0s - loss: 0.0400 - acc: 0.9870 - val_loss: 0.0450 - val_acc: 0.9896\n",
      "Epoch 78/100\n",
      " - 0s - loss: 0.0402 - acc: 0.9870 - val_loss: 0.0449 - val_acc: 0.9896\n",
      "Epoch 79/100\n",
      " - 0s - loss: 0.0400 - acc: 0.9870 - val_loss: 0.0445 - val_acc: 0.9896\n",
      "Epoch 80/100\n",
      " - 0s - loss: 0.0399 - acc: 0.9870 - val_loss: 0.0445 - val_acc: 0.9896\n",
      "Epoch 81/100\n",
      " - 0s - loss: 0.0398 - acc: 0.9870 - val_loss: 0.0448 - val_acc: 0.9896\n",
      "Epoch 82/100\n",
      " - 0s - loss: 0.0399 - acc: 0.9870 - val_loss: 0.0450 - val_acc: 0.9896\n",
      "Epoch 83/100\n",
      " - 0s - loss: 0.0400 - acc: 0.9870 - val_loss: 0.0446 - val_acc: 0.9896\n",
      "Epoch 84/100\n",
      " - 0s - loss: 0.0400 - acc: 0.9870 - val_loss: 0.0453 - val_acc: 0.9896\n",
      "Epoch 85/100\n",
      " - 0s - loss: 0.0400 - acc: 0.9870 - val_loss: 0.0441 - val_acc: 0.9896\n",
      "Epoch 86/100\n",
      " - 0s - loss: 0.0397 - acc: 0.9870 - val_loss: 0.0445 - val_acc: 0.9896\n",
      "Epoch 87/100\n",
      " - 0s - loss: 0.0397 - acc: 0.9870 - val_loss: 0.0445 - val_acc: 0.9896\n",
      "Epoch 88/100\n",
      " - 0s - loss: 0.0397 - acc: 0.9870 - val_loss: 0.0449 - val_acc: 0.9896\n",
      "Epoch 89/100\n",
      " - 0s - loss: 0.0403 - acc: 0.9883 - val_loss: 0.0446 - val_acc: 0.9896\n",
      "Epoch 90/100\n",
      " - 0s - loss: 0.0400 - acc: 0.9870 - val_loss: 0.0441 - val_acc: 0.9896\n",
      "Epoch 91/100\n",
      " - 0s - loss: 0.0397 - acc: 0.9870 - val_loss: 0.0446 - val_acc: 0.9896\n",
      "Epoch 92/100\n",
      " - 0s - loss: 0.0398 - acc: 0.9870 - val_loss: 0.0447 - val_acc: 0.9896\n",
      "Epoch 93/100\n",
      " - 0s - loss: 0.0402 - acc: 0.9831 - val_loss: 0.0442 - val_acc: 0.9896\n",
      "Epoch 94/100\n",
      " - 0s - loss: 0.0398 - acc: 0.9870 - val_loss: 0.0447 - val_acc: 0.9896\n",
      "Epoch 95/100\n",
      " - 0s - loss: 0.0396 - acc: 0.9870 - val_loss: 0.0444 - val_acc: 0.9896\n",
      "Epoch 96/100\n",
      " - 0s - loss: 0.0397 - acc: 0.9870 - val_loss: 0.0446 - val_acc: 0.9896\n"
     ]
    },
    {
     "name": "stdout",
     "output_type": "stream",
     "text": [
      "Epoch 97/100\n",
      " - 0s - loss: 0.0398 - acc: 0.9870 - val_loss: 0.0439 - val_acc: 0.9896\n",
      "Epoch 98/100\n",
      " - 0s - loss: 0.0397 - acc: 0.9870 - val_loss: 0.0438 - val_acc: 0.9896\n",
      "Epoch 99/100\n",
      " - 0s - loss: 0.0398 - acc: 0.9883 - val_loss: 0.0450 - val_acc: 0.9896\n",
      "Epoch 100/100\n",
      " - 0s - loss: 0.0397 - acc: 0.9870 - val_loss: 0.0438 - val_acc: 0.9896\n"
     ]
    }
   ],
   "source": [
    "history  = model.fit(xtrain,ytrain,epochs=100,verbose=2, validation_split=0.2)"
   ]
  },
  {
   "cell_type": "markdown",
   "metadata": {},
   "source": [
    "## Visualization of Model:"
   ]
  },
  {
   "cell_type": "code",
   "execution_count": 64,
   "metadata": {},
   "outputs": [
    {
     "data": {
      "text/plain": [
       "[<matplotlib.lines.Line2D at 0x1ec14cc96d8>]"
      ]
     },
     "execution_count": 64,
     "metadata": {},
     "output_type": "execute_result"
    },
    {
     "data": {
      "image/png": "[encoded data removed]",
      "text/plain": [
       "<Figure size 432x288 with 1 Axes>"
      ]
     },
     "metadata": {},
     "output_type": "display_data"
    }
   ],
   "source": [
    "plt.plot(history.epoch, history.history['loss'], 'g')\n",
    "plt.plot(history.epoch, history.history['val_loss'])"
   ]
  },
  {
   "cell_type": "markdown",
   "metadata": {},
   "source": [
    "# Conclusion:\n",
    "\n",
    "According to the results, it has been observed that 98% and above classification accuracy can be achieved."
   ]
  },
  {
   "cell_type": "code",
   "execution_count": 67,
   "metadata": {},
   "outputs": [
    {
     "name": "stdout",
     "output_type": "stream",
     "text": [
      "412/412 [==============================] - 0s 78us/step\n"
     ]
    }
   ],
   "source": [
    "loss, accuracy = model.evaluate(xtest,ytest)"
   ]
  },
  {
   "cell_type": "code",
   "execution_count": 68,
   "metadata": {},
   "outputs": [
    {
     "name": "stdout",
     "output_type": "stream",
     "text": [
      "98.7864077669903\n"
     ]
    }
   ],
   "source": [
    "print(accuracy*100)"
   ]
  },
  {
   "cell_type": "markdown",
   "metadata": {},
   "source": [
    "<img style=\"width: 450px;height: 325px\" src=\"201w.gif\">"
   ]
  }
 ],
 "metadata": {
  "kernelspec": {
   "display_name": "Python 3",
   "language": "python",
   "name": "python3"
  },
  "language_info": {
   "codemirror_mode": {
    "name": "ipython",
    "version": 3
   },
   "file_extension": ".py",
   "mimetype": "text/x-python",
   "name": "python",
   "nbconvert_exporter": "python",
   "pygments_lexer": "ipython3",
   "version": "3.6.5"
  }
 },
 "nbformat": 4,
 "nbformat_minor": 2
}
